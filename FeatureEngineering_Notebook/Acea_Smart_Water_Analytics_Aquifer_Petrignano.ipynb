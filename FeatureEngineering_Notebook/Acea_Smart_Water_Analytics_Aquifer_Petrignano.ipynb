{
 "cells": [
  {
   "cell_type": "code",
   "execution_count": 32,
   "metadata": {},
   "outputs": [],
   "source": [
    "import pandas as pd\n",
    "import numpy as np\n",
    "import matplotlib.pyplot as plt\n",
    "import seaborn as sns\n",
    "import missingno as msno"
   ]
  },
  {
   "cell_type": "code",
   "execution_count": 33,
   "metadata": {},
   "outputs": [],
   "source": [
    "Aquifer_Petrignano = pd.read_csv('./datasets/Aquifer_Petrignano.csv')"
   ]
  },
  {
   "cell_type": "code",
   "execution_count": 34,
   "metadata": {},
   "outputs": [
    {
     "data": {
      "text/html": [
       "<div>\n",
       "<style scoped>\n",
       "    .dataframe tbody tr th:only-of-type {\n",
       "        vertical-align: middle;\n",
       "    }\n",
       "\n",
       "    .dataframe tbody tr th {\n",
       "        vertical-align: top;\n",
       "    }\n",
       "\n",
       "    .dataframe thead th {\n",
       "        text-align: right;\n",
       "    }\n",
       "</style>\n",
       "<table border=\"1\" class=\"dataframe\">\n",
       "  <thead>\n",
       "    <tr style=\"text-align: right;\">\n",
       "      <th></th>\n",
       "      <th>Date</th>\n",
       "      <th>Rainfall_Bastia_Umbra</th>\n",
       "      <th>Depth_to_Groundwater_P24</th>\n",
       "      <th>Depth_to_Groundwater_P25</th>\n",
       "      <th>Temperature_Bastia_Umbra</th>\n",
       "      <th>Temperature_Petrignano</th>\n",
       "      <th>Volume_C10_Petrignano</th>\n",
       "      <th>Hydrometry_Fiume_Chiascio_Petrignano</th>\n",
       "    </tr>\n",
       "  </thead>\n",
       "  <tbody>\n",
       "    <tr>\n",
       "      <th>0</th>\n",
       "      <td>14/03/2006</td>\n",
       "      <td>NaN</td>\n",
       "      <td>-22.48</td>\n",
       "      <td>-22.18</td>\n",
       "      <td>NaN</td>\n",
       "      <td>NaN</td>\n",
       "      <td>NaN</td>\n",
       "      <td>NaN</td>\n",
       "    </tr>\n",
       "    <tr>\n",
       "      <th>1</th>\n",
       "      <td>15/03/2006</td>\n",
       "      <td>NaN</td>\n",
       "      <td>-22.38</td>\n",
       "      <td>-22.14</td>\n",
       "      <td>NaN</td>\n",
       "      <td>NaN</td>\n",
       "      <td>NaN</td>\n",
       "      <td>NaN</td>\n",
       "    </tr>\n",
       "    <tr>\n",
       "      <th>2</th>\n",
       "      <td>16/03/2006</td>\n",
       "      <td>NaN</td>\n",
       "      <td>-22.25</td>\n",
       "      <td>-22.04</td>\n",
       "      <td>NaN</td>\n",
       "      <td>NaN</td>\n",
       "      <td>NaN</td>\n",
       "      <td>NaN</td>\n",
       "    </tr>\n",
       "    <tr>\n",
       "      <th>3</th>\n",
       "      <td>17/03/2006</td>\n",
       "      <td>NaN</td>\n",
       "      <td>-22.38</td>\n",
       "      <td>-22.04</td>\n",
       "      <td>NaN</td>\n",
       "      <td>NaN</td>\n",
       "      <td>NaN</td>\n",
       "      <td>NaN</td>\n",
       "    </tr>\n",
       "    <tr>\n",
       "      <th>4</th>\n",
       "      <td>18/03/2006</td>\n",
       "      <td>NaN</td>\n",
       "      <td>-22.60</td>\n",
       "      <td>-22.04</td>\n",
       "      <td>NaN</td>\n",
       "      <td>NaN</td>\n",
       "      <td>NaN</td>\n",
       "      <td>NaN</td>\n",
       "    </tr>\n",
       "    <tr>\n",
       "      <th>...</th>\n",
       "      <td>...</td>\n",
       "      <td>...</td>\n",
       "      <td>...</td>\n",
       "      <td>...</td>\n",
       "      <td>...</td>\n",
       "      <td>...</td>\n",
       "      <td>...</td>\n",
       "      <td>...</td>\n",
       "    </tr>\n",
       "    <tr>\n",
       "      <th>5218</th>\n",
       "      <td>26/06/2020</td>\n",
       "      <td>0.0</td>\n",
       "      <td>-25.68</td>\n",
       "      <td>-25.07</td>\n",
       "      <td>25.7</td>\n",
       "      <td>24.5</td>\n",
       "      <td>-29930.688</td>\n",
       "      <td>2.5</td>\n",
       "    </tr>\n",
       "    <tr>\n",
       "      <th>5219</th>\n",
       "      <td>27/06/2020</td>\n",
       "      <td>0.0</td>\n",
       "      <td>-25.80</td>\n",
       "      <td>-25.11</td>\n",
       "      <td>26.2</td>\n",
       "      <td>25.0</td>\n",
       "      <td>-31332.960</td>\n",
       "      <td>2.4</td>\n",
       "    </tr>\n",
       "    <tr>\n",
       "      <th>5220</th>\n",
       "      <td>28/06/2020</td>\n",
       "      <td>0.0</td>\n",
       "      <td>-25.80</td>\n",
       "      <td>-25.19</td>\n",
       "      <td>26.9</td>\n",
       "      <td>25.7</td>\n",
       "      <td>-32120.928</td>\n",
       "      <td>2.4</td>\n",
       "    </tr>\n",
       "    <tr>\n",
       "      <th>5221</th>\n",
       "      <td>29/06/2020</td>\n",
       "      <td>0.0</td>\n",
       "      <td>-25.78</td>\n",
       "      <td>-25.18</td>\n",
       "      <td>26.9</td>\n",
       "      <td>26.0</td>\n",
       "      <td>-30602.880</td>\n",
       "      <td>2.4</td>\n",
       "    </tr>\n",
       "    <tr>\n",
       "      <th>5222</th>\n",
       "      <td>30/06/2020</td>\n",
       "      <td>0.0</td>\n",
       "      <td>-25.91</td>\n",
       "      <td>-25.25</td>\n",
       "      <td>27.3</td>\n",
       "      <td>26.5</td>\n",
       "      <td>-31878.144</td>\n",
       "      <td>2.4</td>\n",
       "    </tr>\n",
       "  </tbody>\n",
       "</table>\n",
       "<p>5223 rows × 8 columns</p>\n",
       "</div>"
      ],
      "text/plain": [
       "            Date  Rainfall_Bastia_Umbra  Depth_to_Groundwater_P24  \\\n",
       "0     14/03/2006                    NaN                    -22.48   \n",
       "1     15/03/2006                    NaN                    -22.38   \n",
       "2     16/03/2006                    NaN                    -22.25   \n",
       "3     17/03/2006                    NaN                    -22.38   \n",
       "4     18/03/2006                    NaN                    -22.60   \n",
       "...          ...                    ...                       ...   \n",
       "5218  26/06/2020                    0.0                    -25.68   \n",
       "5219  27/06/2020                    0.0                    -25.80   \n",
       "5220  28/06/2020                    0.0                    -25.80   \n",
       "5221  29/06/2020                    0.0                    -25.78   \n",
       "5222  30/06/2020                    0.0                    -25.91   \n",
       "\n",
       "      Depth_to_Groundwater_P25  Temperature_Bastia_Umbra  \\\n",
       "0                       -22.18                       NaN   \n",
       "1                       -22.14                       NaN   \n",
       "2                       -22.04                       NaN   \n",
       "3                       -22.04                       NaN   \n",
       "4                       -22.04                       NaN   \n",
       "...                        ...                       ...   \n",
       "5218                    -25.07                      25.7   \n",
       "5219                    -25.11                      26.2   \n",
       "5220                    -25.19                      26.9   \n",
       "5221                    -25.18                      26.9   \n",
       "5222                    -25.25                      27.3   \n",
       "\n",
       "      Temperature_Petrignano  Volume_C10_Petrignano  \\\n",
       "0                        NaN                    NaN   \n",
       "1                        NaN                    NaN   \n",
       "2                        NaN                    NaN   \n",
       "3                        NaN                    NaN   \n",
       "4                        NaN                    NaN   \n",
       "...                      ...                    ...   \n",
       "5218                    24.5             -29930.688   \n",
       "5219                    25.0             -31332.960   \n",
       "5220                    25.7             -32120.928   \n",
       "5221                    26.0             -30602.880   \n",
       "5222                    26.5             -31878.144   \n",
       "\n",
       "      Hydrometry_Fiume_Chiascio_Petrignano  \n",
       "0                                      NaN  \n",
       "1                                      NaN  \n",
       "2                                      NaN  \n",
       "3                                      NaN  \n",
       "4                                      NaN  \n",
       "...                                    ...  \n",
       "5218                                   2.5  \n",
       "5219                                   2.4  \n",
       "5220                                   2.4  \n",
       "5221                                   2.4  \n",
       "5222                                   2.4  \n",
       "\n",
       "[5223 rows x 8 columns]"
      ]
     },
     "execution_count": 34,
     "metadata": {},
     "output_type": "execute_result"
    }
   ],
   "source": [
    "Aquifer_Petrignano"
   ]
  },
  {
   "cell_type": "code",
   "execution_count": 35,
   "metadata": {},
   "outputs": [
    {
     "name": "stdout",
     "output_type": "stream",
     "text": [
      "<class 'pandas.core.frame.DataFrame'>\n",
      "RangeIndex: 5223 entries, 0 to 5222\n",
      "Data columns (total 8 columns):\n",
      " #   Column                                Non-Null Count  Dtype  \n",
      "---  ------                                --------------  -----  \n",
      " 0   Date                                  5223 non-null   object \n",
      " 1   Rainfall_Bastia_Umbra                 4199 non-null   float64\n",
      " 2   Depth_to_Groundwater_P24              5168 non-null   float64\n",
      " 3   Depth_to_Groundwater_P25              5184 non-null   float64\n",
      " 4   Temperature_Bastia_Umbra              4199 non-null   float64\n",
      " 5   Temperature_Petrignano                4199 non-null   float64\n",
      " 6   Volume_C10_Petrignano                 5025 non-null   float64\n",
      " 7   Hydrometry_Fiume_Chiascio_Petrignano  4199 non-null   float64\n",
      "dtypes: float64(7), object(1)\n",
      "memory usage: 326.6+ KB\n"
     ]
    }
   ],
   "source": [
    "Aquifer_Petrignano.info()"
   ]
  },
  {
   "cell_type": "code",
   "execution_count": 36,
   "metadata": {},
   "outputs": [
    {
     "data": {
      "text/plain": [
       "(5223, 8)"
      ]
     },
     "execution_count": 36,
     "metadata": {},
     "output_type": "execute_result"
    }
   ],
   "source": [
    "Aquifer_Petrignano.shape"
   ]
  },
  {
   "cell_type": "markdown",
   "metadata": {},
   "source": [
    "### Filled Entries"
   ]
  },
  {
   "cell_type": "code",
   "execution_count": 37,
   "metadata": {},
   "outputs": [
    {
     "data": {
      "text/plain": [
       "<AxesSubplot:>"
      ]
     },
     "execution_count": 37,
     "metadata": {},
     "output_type": "execute_result"
    },
    {
     "data": {
      "image/png": "[encoded data removed]",
      "text/plain": [
       "<Figure size 1800x720 with 3 Axes>"
      ]
     },
     "metadata": {
      "needs_background": "light"
     },
     "output_type": "display_data"
    }
   ],
   "source": [
    "msno.bar(Aquifer_Petrignano,color='b')"
   ]
  },
  {
   "cell_type": "markdown",
   "metadata": {},
   "source": [
    "### Dates starting and ending values"
   ]
  },
  {
   "cell_type": "code",
   "execution_count": 38,
   "metadata": {},
   "outputs": [
    {
     "name": "stdout",
     "output_type": "stream",
     "text": [
      "starting date: 14/03/2006\n",
      "ending date: 30/06/2020\n"
     ]
    }
   ],
   "source": [
    "print('starting date:', Aquifer_Petrignano.Date.values[[0,-1]][0])\n",
    "print('ending date:', Aquifer_Petrignano.Date.values[[0,-1]][1])\n"
   ]
  },
  {
   "cell_type": "markdown",
   "metadata": {},
   "source": [
    "### Position of Null values"
   ]
  },
  {
   "cell_type": "code",
   "execution_count": 39,
   "metadata": {},
   "outputs": [
    {
     "data": {
      "text/plain": [
       "<AxesSubplot:>"
      ]
     },
     "execution_count": 39,
     "metadata": {},
     "output_type": "execute_result"
    },
    {
     "data": {
      "image/png": "[encoded data removed]",
      "text/plain": [
       "<Figure size 432x288 with 1 Axes>"
      ]
     },
     "metadata": {
      "needs_background": "light"
     },
     "output_type": "display_data"
    }
   ],
   "source": [
    "sns.heatmap(Aquifer_Petrignano.isnull(),yticklabels=False,cbar=False)"
   ]
  },
  {
   "cell_type": "code",
   "execution_count": 40,
   "metadata": {},
   "outputs": [
    {
     "data": {
      "text/plain": [
       "<AxesSubplot:>"
      ]
     },
     "execution_count": 40,
     "metadata": {},
     "output_type": "execute_result"
    },
    {
     "data": {
      "image/png": "[encoded data removed]",
      "text/plain": [
       "<Figure size 432x288 with 1 Axes>"
      ]
     },
     "metadata": {
      "needs_background": "light"
     },
     "output_type": "display_data"
    }
   ],
   "source": [
    "Aquifer_Petrignano.drop(Aquifer_Petrignano.index[0:1024], inplace=True)\n",
    "sns.heatmap(Aquifer_Petrignano.isnull(),yticklabels=False,cbar=False)"
   ]
  },
  {
   "cell_type": "code",
   "execution_count": 41,
   "metadata": {},
   "outputs": [],
   "source": [
    "data=Aquifer_Petrignano.copy()\n",
    "data.drop('Date',axis=1,inplace=True)"
   ]
  },
  {
   "cell_type": "markdown",
   "metadata": {},
   "source": [
    "### Feature Selection"
   ]
  },
  {
   "cell_type": "code",
   "execution_count": 42,
   "metadata": {},
   "outputs": [
    {
     "data": {
      "image/png": "[encoded data removed]",
      "text/plain": [
       "<Figure size 576x432 with 2 Axes>"
      ]
     },
     "metadata": {
      "needs_background": "light"
     },
     "output_type": "display_data"
    }
   ],
   "source": [
    "#sns.heatmap(data.corr())\n",
    "plt.figure(figsize=(8, 6))\n",
    "sns.heatmap(data.corr(), annot = True)\n",
    "plt.show()"
   ]
  },
  {
   "cell_type": "code",
   "execution_count": 43,
   "metadata": {},
   "outputs": [
    {
     "name": "stdout",
     "output_type": "stream",
     "text": [
      "Depth_to_Groundwater_P24 0.9288 % missing \n",
      "Depth_to_Groundwater_P25 0.643 % missing \n"
     ]
    }
   ],
   "source": [
    "features_nan=[features for features in Aquifer_Petrignano.columns if Aquifer_Petrignano[features].isnull().sum()>1 and Aquifer_Petrignano[features].dtypes!='O']\n",
    "for feature in features_nan:\n",
    "    print(feature, np.round(Aquifer_Petrignano[feature].isnull().mean()*100,4),'% missing ')"
   ]
  },
  {
   "cell_type": "code",
   "execution_count": 44,
   "metadata": {},
   "outputs": [
    {
     "data": {
      "text/plain": [
       "'\\nColumns that are going to be dropped\\n\\n\\n\\n'"
      ]
     },
     "execution_count": 44,
     "metadata": {},
     "output_type": "execute_result"
    }
   ],
   "source": [
    "'''\n",
    "Columns that are going to be dropped\n",
    "\n",
    "\n",
    "\n",
    "'''"
   ]
  },
  {
   "cell_type": "code",
   "execution_count": 45,
   "metadata": {},
   "outputs": [
    {
     "name": "stdout",
     "output_type": "stream",
     "text": [
      "Depth_to_Groundwater_P24 0.9288 % missing \n",
      "Depth_to_Groundwater_P25 0.643 % missing \n"
     ]
    }
   ],
   "source": [
    "a = Aquifer_Petrignano\n",
    "\n",
    "features_nan=[features for features in a.columns if a[features].isnull().sum()>1 and a[features].dtypes!='O']\n",
    "for feature in features_nan:\n",
    "    print(feature, np.round(a[feature].isnull().mean()*100,4),'% missing ')"
   ]
  },
  {
   "cell_type": "markdown",
   "metadata": {},
   "source": [
    "### Imputation"
   ]
  },
  {
   "cell_type": "code",
   "execution_count": 46,
   "metadata": {},
   "outputs": [],
   "source": [
    "def cal(x):\n",
    "    null_values=x.isnull().sum()\n",
    "    count_values=x.value_counts().unique\n",
    "    mean=x.mean()\n",
    "    median=x.median()\n",
    "    mode=x.mode()\n",
    "    print('null_values: ',null_values,'count_values: ', count_values, 'mean: ',mean,'median: ', median,'mode: ',mode, sep=' \\n  ' )\n",
    "    return"
   ]
  },
  {
   "cell_type": "code",
   "execution_count": 47,
   "metadata": {},
   "outputs": [
    {
     "name": "stdout",
     "output_type": "stream",
     "text": [
      "null_values:  \n",
      "  39 \n",
      "  count_values:  \n",
      "  <bound method Series.unique of -23.71    14\n",
      "-27.16    13\n",
      "-23.47    13\n",
      "-27.13    13\n",
      "-23.44    13\n",
      "          ..\n",
      "-33.71     1\n",
      "-30.23     1\n",
      "-22.64     1\n",
      "-33.46     1\n",
      "-30.25     1\n",
      "Name: Depth_to_Groundwater_P24, Length: 1145, dtype: int64> \n",
      "  mean:  \n",
      "  -25.713706730769267 \n",
      "  median:  \n",
      "  -25.55 \n",
      "  mode:  \n",
      "  0   -23.71\n",
      "dtype: float64\n"
     ]
    }
   ],
   "source": [
    "x=a['Depth_to_Groundwater_P24']\n",
    "cal(x)"
   ]
  },
  {
   "cell_type": "code",
   "execution_count": 48,
   "metadata": {},
   "outputs": [],
   "source": [
    "a['Depth_to_Groundwater_P24']=a['Depth_to_Groundwater_P24'].fillna(a['Depth_to_Groundwater_P24'].mean())"
   ]
  },
  {
   "cell_type": "markdown",
   "metadata": {},
   "source": [
    "Depth_to_Groundwater_P25"
   ]
  },
  {
   "cell_type": "code",
   "execution_count": 49,
   "metadata": {},
   "outputs": [
    {
     "name": "stdout",
     "output_type": "stream",
     "text": [
      "null_values:  \n",
      "  27 \n",
      "  count_values:  \n",
      "  <bound method Series.unique of -26.45    17\n",
      "-26.38    15\n",
      "-28.61    15\n",
      "-26.46    14\n",
      "-23.38    14\n",
      "          ..\n",
      "-23.12     1\n",
      "-19.68     1\n",
      "-30.85     1\n",
      "-31.26     1\n",
      "-20.04     1\n",
      "Name: Depth_to_Groundwater_P25, Length: 1142, dtype: int64> \n",
      "  mean:  \n",
      "  -25.18253355704689 \n",
      "  median:  \n",
      "  -25.17 \n",
      "  mode:  \n",
      "  0   -26.45\n",
      "dtype: float64\n"
     ]
    }
   ],
   "source": [
    "x=a['Depth_to_Groundwater_P25']\n",
    "cal(x)"
   ]
  },
  {
   "cell_type": "code",
   "execution_count": 50,
   "metadata": {},
   "outputs": [],
   "source": [
    "a['Depth_to_Groundwater_P25']=a['Depth_to_Groundwater_P25'].fillna(a['Depth_to_Groundwater_P25'].mean())"
   ]
  },
  {
   "cell_type": "markdown",
   "metadata": {},
   "source": [
    "Volume_C10_Petrignano"
   ]
  },
  {
   "cell_type": "code",
   "execution_count": 51,
   "metadata": {},
   "outputs": [
    {
     "name": "stdout",
     "output_type": "stream",
     "text": [
      "null_values:  \n",
      "  1 \n",
      "  count_values:  \n",
      "  <bound method Series.unique of  0.000        25\n",
      "-26127.360     4\n",
      "-27076.032     4\n",
      "-26257.824     3\n",
      "-29742.336     3\n",
      "              ..\n",
      "-28571.616     1\n",
      "-29485.728     1\n",
      "-23775.552     1\n",
      "-27097.632     1\n",
      "-29217.888     1\n",
      "Name: Volume_C10_Petrignano, Length: 3669, dtype: int64> \n",
      "  mean:  \n",
      "  -28669.156619342506 \n",
      "  median:  \n",
      "  -28389.744 \n",
      "  mode:  \n",
      "  0    0.0\n",
      "dtype: float64\n"
     ]
    }
   ],
   "source": [
    "x=a['Volume_C10_Petrignano']\n",
    "cal(x)"
   ]
  },
  {
   "cell_type": "code",
   "execution_count": 52,
   "metadata": {},
   "outputs": [],
   "source": [
    "a['Volume_C10_Petrignano']=a['Volume_C10_Petrignano'].fillna(a['Volume_C10_Petrignano'].median())"
   ]
  },
  {
   "cell_type": "code",
   "execution_count": 53,
   "metadata": {},
   "outputs": [
    {
     "data": {
      "text/plain": [
       "Date                                    0\n",
       "Rainfall_Bastia_Umbra                   0\n",
       "Depth_to_Groundwater_P24                0\n",
       "Depth_to_Groundwater_P25                0\n",
       "Temperature_Bastia_Umbra                0\n",
       "Temperature_Petrignano                  0\n",
       "Volume_C10_Petrignano                   0\n",
       "Hydrometry_Fiume_Chiascio_Petrignano    0\n",
       "dtype: int64"
      ]
     },
     "execution_count": 53,
     "metadata": {},
     "output_type": "execute_result"
    }
   ],
   "source": [
    "a.isnull().sum()"
   ]
  },
  {
   "cell_type": "code",
   "execution_count": 54,
   "metadata": {},
   "outputs": [
    {
     "data": {
      "image/png": "[encoded data removed]",
      "text/plain": [
       "<Figure size 432x288 with 1 Axes>"
      ]
     },
     "metadata": {
      "needs_background": "light"
     },
     "output_type": "display_data"
    },
    {
     "data": {
      "image/png": "[encoded data removed]",
      "text/plain": [
       "<Figure size 432x288 with 1 Axes>"
      ]
     },
     "metadata": {
      "needs_background": "light"
     },
     "output_type": "display_data"
    }
   ],
   "source": [
    "a = a.drop(['Date'],axis=1)\n",
    "a\n",
    "\n",
    "for feature in a.columns:\n",
    "    data=a.copy()\n",
    "    if 0 in data[feature].unique():\n",
    "        pass\n",
    "    else:\n",
    "        # data[feature]=np.log(data[feature])\n",
    "        data.boxplot(column=feature)\n",
    "        plt.ylabel(feature)\n",
    "        plt.title(feature)\n",
    "        plt.show()"
   ]
  },
  {
   "cell_type": "code",
   "execution_count": 55,
   "metadata": {},
   "outputs": [],
   "source": [
    "q1 = a['Depth_to_Groundwater_P24'].quantile(0.25)\n",
    "q3 = a['Depth_to_Groundwater_P24'].quantile(0.75)\n",
    "\n",
    "IQR = q3-q1\n",
    "\n",
    "lower_extreme = q1 - 1.5*IQR\n",
    "upper_extreme = q3 + 1.5*IQR\n",
    "\n",
    "out1= a[(a['Depth_to_Groundwater_P24']<lower_extreme)].values\n",
    "out2= a[(a['Depth_to_Groundwater_P24']>upper_extreme)].values\n",
    "\n",
    "mean = a['Depth_to_Groundwater_P24'].mean()\n",
    "\n",
    "\n",
    "\n",
    "a['Depth_to_Groundwater_P24'].replace(out1,lower_extreme,inplace=True)\n",
    "a['Depth_to_Groundwater_P24'].replace(out2,upper_extreme,inplace=True)\n",
    "\n",
    "# out = a[(a['Depth_to_Groundwater_P24']<lower_extreme)|(a['Depth_to_Groundwater_P24']>upper_extreme)].index\n",
    "\n",
    "# a.drop(out,inplace=True)\n",
    "\n",
    "q11 = a['Depth_to_Groundwater_P25'].quantile(0.25)\n",
    "q31 = a['Depth_to_Groundwater_P25'].quantile(0.75)\n",
    "\n",
    "IQR2 = q31-q11\n",
    "\n",
    "lower_extreme1 = q11 - 1.5*IQR\n",
    "upper_extreme1 = q31 + 1.5*IQR\n",
    "\n",
    "# out1= a[(a['Depth_to_Groundwater_Pozzo_2']<lower_extreme)].values\n",
    "# out2= a[(a['Depth_to_Groundwater_Pozzo_2']>upper_extreme)].values\n",
    "\n",
    "# mean = a['Depth_to_Groundwater_Pozzo_2'].mean()\n",
    "\n",
    "\n",
    "\n",
    "# a['Depth_to_Groundwater_Pozzo_2'].replace(out1,lower_extreme,inplace=True)\n",
    "# a['Depth_to_Groundwater_Pozzo_2'].replace(out2,upper_extreme,inplace=True)\n",
    "\n",
    "out = a[(a['Depth_to_Groundwater_P25']<lower_extreme1)|(a['Depth_to_Groundwater_P25']>upper_extreme1)].index\n",
    "\n",
    "a.drop(out,inplace=True)\n"
   ]
  },
  {
   "cell_type": "code",
   "execution_count": 56,
   "metadata": {},
   "outputs": [
    {
     "data": {
      "image/png": "[encoded data removed]",
      "text/plain": [
       "<Figure size 432x288 with 1 Axes>"
      ]
     },
     "metadata": {
      "needs_background": "light"
     },
     "output_type": "display_data"
    },
    {
     "data": {
      "image/png": "[encoded data removed]",
      "text/plain": [
       "<Figure size 432x288 with 1 Axes>"
      ]
     },
     "metadata": {
      "needs_background": "light"
     },
     "output_type": "display_data"
    }
   ],
   "source": [
    "for feature in a.columns:\n",
    "    data=a.copy()\n",
    "    if 0 in data[feature].unique():\n",
    "        pass\n",
    "    else:\n",
    "        # data[feature]=np.log(data[feature])\n",
    "        data.boxplot(column=feature)\n",
    "        plt.ylabel(feature)\n",
    "        plt.title(feature)\n",
    "        plt.show()"
   ]
  },
  {
   "cell_type": "code",
   "execution_count": 57,
   "metadata": {},
   "outputs": [],
   "source": [
    "q1 = a['Depth_to_Groundwater_P25'].quantile(0.25)\n",
    "q3 = a['Depth_to_Groundwater_P25'].quantile(0.75)\n",
    "\n",
    "IQR = q3-q1\n",
    "\n",
    "lower_extreme = q1 - 1.5*IQR\n",
    "upper_extreme = q3 + 1.5*IQR\n",
    "\n",
    "# out1= a[(a['Depth_to_Groundwater_Pozzo_2']<lower_extreme)].values\n",
    "# out2= a[(a['Depth_to_Groundwater_Pozzo_2']>upper_extreme)].values\n",
    "\n",
    "# mean = a['Depth_to_Groundwater_Pozzo_2'].mean()\n",
    "\n",
    "\n",
    "\n",
    "# a['Depth_to_Groundwater_Pozzo_2'].replace(out1,lower_extreme,inplace=True)\n",
    "# a['Depth_to_Groundwater_Pozzo_2'].replace(out2,upper_extreme,inplace=True)\n",
    "\n",
    "out = a[(a['Depth_to_Groundwater_P25']<lower_extreme)|(a['Depth_to_Groundwater_P25']>upper_extreme)].index\n",
    "\n",
    "a.drop(out,inplace=True)\n"
   ]
  },
  {
   "cell_type": "code",
   "execution_count": 58,
   "metadata": {},
   "outputs": [
    {
     "data": {
      "image/png": "[encoded data removed]",
      "text/plain": [
       "<Figure size 432x288 with 1 Axes>"
      ]
     },
     "metadata": {
      "needs_background": "light"
     },
     "output_type": "display_data"
    },
    {
     "data": {
      "image/png": "[encoded data removed]",
      "text/plain": [
       "<Figure size 432x288 with 1 Axes>"
      ]
     },
     "metadata": {
      "needs_background": "light"
     },
     "output_type": "display_data"
    }
   ],
   "source": [
    "for feature in a.columns:\n",
    "    data=a.copy()\n",
    "    if 0 in data[feature].unique():\n",
    "        pass\n",
    "    else:\n",
    "        # data[feature]=np.log(data[feature])\n",
    "        data.boxplot(column=feature)\n",
    "        plt.ylabel(feature)\n",
    "        plt.title(feature)\n",
    "        plt.show()"
   ]
  },
  {
   "cell_type": "code",
   "execution_count": 59,
   "metadata": {},
   "outputs": [
    {
     "data": {
      "text/html": [
       "<div>\n",
       "<style scoped>\n",
       "    .dataframe tbody tr th:only-of-type {\n",
       "        vertical-align: middle;\n",
       "    }\n",
       "\n",
       "    .dataframe tbody tr th {\n",
       "        vertical-align: top;\n",
       "    }\n",
       "\n",
       "    .dataframe thead th {\n",
       "        text-align: right;\n",
       "    }\n",
       "</style>\n",
       "<table border=\"1\" class=\"dataframe\">\n",
       "  <thead>\n",
       "    <tr style=\"text-align: right;\">\n",
       "      <th></th>\n",
       "      <th>Rainfall_Bastia_Umbra</th>\n",
       "      <th>Depth_to_Groundwater_P24</th>\n",
       "      <th>Depth_to_Groundwater_P25</th>\n",
       "      <th>Temperature_Bastia_Umbra</th>\n",
       "      <th>Temperature_Petrignano</th>\n",
       "      <th>Volume_C10_Petrignano</th>\n",
       "      <th>Hydrometry_Fiume_Chiascio_Petrignano</th>\n",
       "    </tr>\n",
       "  </thead>\n",
       "  <tbody>\n",
       "    <tr>\n",
       "      <th>1024</th>\n",
       "      <td>0.0</td>\n",
       "      <td>-31.96</td>\n",
       "      <td>-31.14</td>\n",
       "      <td>5.2</td>\n",
       "      <td>4.9</td>\n",
       "      <td>-24530.688</td>\n",
       "      <td>2.4</td>\n",
       "    </tr>\n",
       "    <tr>\n",
       "      <th>1025</th>\n",
       "      <td>0.0</td>\n",
       "      <td>-32.03</td>\n",
       "      <td>-31.11</td>\n",
       "      <td>2.3</td>\n",
       "      <td>2.5</td>\n",
       "      <td>-28785.888</td>\n",
       "      <td>2.5</td>\n",
       "    </tr>\n",
       "    <tr>\n",
       "      <th>1026</th>\n",
       "      <td>0.0</td>\n",
       "      <td>-31.97</td>\n",
       "      <td>-31.07</td>\n",
       "      <td>4.4</td>\n",
       "      <td>3.9</td>\n",
       "      <td>-25766.208</td>\n",
       "      <td>2.4</td>\n",
       "    </tr>\n",
       "    <tr>\n",
       "      <th>1027</th>\n",
       "      <td>0.0</td>\n",
       "      <td>-31.91</td>\n",
       "      <td>-31.05</td>\n",
       "      <td>0.8</td>\n",
       "      <td>0.8</td>\n",
       "      <td>-27919.296</td>\n",
       "      <td>2.4</td>\n",
       "    </tr>\n",
       "    <tr>\n",
       "      <th>1028</th>\n",
       "      <td>0.0</td>\n",
       "      <td>-31.94</td>\n",
       "      <td>-31.01</td>\n",
       "      <td>-1.9</td>\n",
       "      <td>-2.1</td>\n",
       "      <td>-29854.656</td>\n",
       "      <td>2.3</td>\n",
       "    </tr>\n",
       "    <tr>\n",
       "      <th>...</th>\n",
       "      <td>...</td>\n",
       "      <td>...</td>\n",
       "      <td>...</td>\n",
       "      <td>...</td>\n",
       "      <td>...</td>\n",
       "      <td>...</td>\n",
       "      <td>...</td>\n",
       "    </tr>\n",
       "    <tr>\n",
       "      <th>5218</th>\n",
       "      <td>0.0</td>\n",
       "      <td>-25.68</td>\n",
       "      <td>-25.07</td>\n",
       "      <td>25.7</td>\n",
       "      <td>24.5</td>\n",
       "      <td>-29930.688</td>\n",
       "      <td>2.5</td>\n",
       "    </tr>\n",
       "    <tr>\n",
       "      <th>5219</th>\n",
       "      <td>0.0</td>\n",
       "      <td>-25.80</td>\n",
       "      <td>-25.11</td>\n",
       "      <td>26.2</td>\n",
       "      <td>25.0</td>\n",
       "      <td>-31332.960</td>\n",
       "      <td>2.4</td>\n",
       "    </tr>\n",
       "    <tr>\n",
       "      <th>5220</th>\n",
       "      <td>0.0</td>\n",
       "      <td>-25.80</td>\n",
       "      <td>-25.19</td>\n",
       "      <td>26.9</td>\n",
       "      <td>25.7</td>\n",
       "      <td>-32120.928</td>\n",
       "      <td>2.4</td>\n",
       "    </tr>\n",
       "    <tr>\n",
       "      <th>5221</th>\n",
       "      <td>0.0</td>\n",
       "      <td>-25.78</td>\n",
       "      <td>-25.18</td>\n",
       "      <td>26.9</td>\n",
       "      <td>26.0</td>\n",
       "      <td>-30602.880</td>\n",
       "      <td>2.4</td>\n",
       "    </tr>\n",
       "    <tr>\n",
       "      <th>5222</th>\n",
       "      <td>0.0</td>\n",
       "      <td>-25.91</td>\n",
       "      <td>-25.25</td>\n",
       "      <td>27.3</td>\n",
       "      <td>26.5</td>\n",
       "      <td>-31878.144</td>\n",
       "      <td>2.4</td>\n",
       "    </tr>\n",
       "  </tbody>\n",
       "</table>\n",
       "<p>4062 rows × 7 columns</p>\n",
       "</div>"
      ],
      "text/plain": [
       "      Rainfall_Bastia_Umbra  Depth_to_Groundwater_P24  \\\n",
       "1024                    0.0                    -31.96   \n",
       "1025                    0.0                    -32.03   \n",
       "1026                    0.0                    -31.97   \n",
       "1027                    0.0                    -31.91   \n",
       "1028                    0.0                    -31.94   \n",
       "...                     ...                       ...   \n",
       "5218                    0.0                    -25.68   \n",
       "5219                    0.0                    -25.80   \n",
       "5220                    0.0                    -25.80   \n",
       "5221                    0.0                    -25.78   \n",
       "5222                    0.0                    -25.91   \n",
       "\n",
       "      Depth_to_Groundwater_P25  Temperature_Bastia_Umbra  \\\n",
       "1024                    -31.14                       5.2   \n",
       "1025                    -31.11                       2.3   \n",
       "1026                    -31.07                       4.4   \n",
       "1027                    -31.05                       0.8   \n",
       "1028                    -31.01                      -1.9   \n",
       "...                        ...                       ...   \n",
       "5218                    -25.07                      25.7   \n",
       "5219                    -25.11                      26.2   \n",
       "5220                    -25.19                      26.9   \n",
       "5221                    -25.18                      26.9   \n",
       "5222                    -25.25                      27.3   \n",
       "\n",
       "      Temperature_Petrignano  Volume_C10_Petrignano  \\\n",
       "1024                     4.9             -24530.688   \n",
       "1025                     2.5             -28785.888   \n",
       "1026                     3.9             -25766.208   \n",
       "1027                     0.8             -27919.296   \n",
       "1028                    -2.1             -29854.656   \n",
       "...                      ...                    ...   \n",
       "5218                    24.5             -29930.688   \n",
       "5219                    25.0             -31332.960   \n",
       "5220                    25.7             -32120.928   \n",
       "5221                    26.0             -30602.880   \n",
       "5222                    26.5             -31878.144   \n",
       "\n",
       "      Hydrometry_Fiume_Chiascio_Petrignano  \n",
       "1024                                   2.4  \n",
       "1025                                   2.5  \n",
       "1026                                   2.4  \n",
       "1027                                   2.4  \n",
       "1028                                   2.3  \n",
       "...                                    ...  \n",
       "5218                                   2.5  \n",
       "5219                                   2.4  \n",
       "5220                                   2.4  \n",
       "5221                                   2.4  \n",
       "5222                                   2.4  \n",
       "\n",
       "[4062 rows x 7 columns]"
      ]
     },
     "execution_count": 59,
     "metadata": {},
     "output_type": "execute_result"
    }
   ],
   "source": [
    "a"
   ]
  },
  {
   "cell_type": "code",
   "execution_count": 60,
   "metadata": {},
   "outputs": [
    {
     "data": {
      "text/html": [
       "<div>\n",
       "<style scoped>\n",
       "    .dataframe tbody tr th:only-of-type {\n",
       "        vertical-align: middle;\n",
       "    }\n",
       "\n",
       "    .dataframe tbody tr th {\n",
       "        vertical-align: top;\n",
       "    }\n",
       "\n",
       "    .dataframe thead th {\n",
       "        text-align: right;\n",
       "    }\n",
       "</style>\n",
       "<table border=\"1\" class=\"dataframe\">\n",
       "  <thead>\n",
       "    <tr style=\"text-align: right;\">\n",
       "      <th></th>\n",
       "      <th>Rainfall_Bastia_Umbra</th>\n",
       "      <th>Depth_to_Groundwater_P24</th>\n",
       "      <th>Depth_to_Groundwater_P25</th>\n",
       "      <th>Temperature_Bastia_Umbra</th>\n",
       "      <th>Temperature_Petrignano</th>\n",
       "      <th>Volume_C10_Petrignano</th>\n",
       "      <th>Hydrometry_Fiume_Chiascio_Petrignano</th>\n",
       "    </tr>\n",
       "  </thead>\n",
       "  <tbody>\n",
       "    <tr>\n",
       "      <th>0</th>\n",
       "      <td>0.0</td>\n",
       "      <td>-0.001303</td>\n",
       "      <td>-0.001269</td>\n",
       "      <td>0.000212</td>\n",
       "      <td>0.000200</td>\n",
       "      <td>-0.999998</td>\n",
       "      <td>0.000098</td>\n",
       "    </tr>\n",
       "    <tr>\n",
       "      <th>1</th>\n",
       "      <td>0.0</td>\n",
       "      <td>-0.001113</td>\n",
       "      <td>-0.001081</td>\n",
       "      <td>0.000080</td>\n",
       "      <td>0.000087</td>\n",
       "      <td>-0.999999</td>\n",
       "      <td>0.000087</td>\n",
       "    </tr>\n",
       "    <tr>\n",
       "      <th>2</th>\n",
       "      <td>0.0</td>\n",
       "      <td>-0.001241</td>\n",
       "      <td>-0.001206</td>\n",
       "      <td>0.000171</td>\n",
       "      <td>0.000151</td>\n",
       "      <td>-0.999998</td>\n",
       "      <td>0.000093</td>\n",
       "    </tr>\n",
       "    <tr>\n",
       "      <th>3</th>\n",
       "      <td>0.0</td>\n",
       "      <td>-0.001143</td>\n",
       "      <td>-0.001112</td>\n",
       "      <td>0.000029</td>\n",
       "      <td>0.000029</td>\n",
       "      <td>-0.999999</td>\n",
       "      <td>0.000086</td>\n",
       "    </tr>\n",
       "    <tr>\n",
       "      <th>4</th>\n",
       "      <td>0.0</td>\n",
       "      <td>-0.001070</td>\n",
       "      <td>-0.001039</td>\n",
       "      <td>-0.000064</td>\n",
       "      <td>-0.000070</td>\n",
       "      <td>-0.999999</td>\n",
       "      <td>0.000077</td>\n",
       "    </tr>\n",
       "    <tr>\n",
       "      <th>...</th>\n",
       "      <td>...</td>\n",
       "      <td>...</td>\n",
       "      <td>...</td>\n",
       "      <td>...</td>\n",
       "      <td>...</td>\n",
       "      <td>...</td>\n",
       "      <td>...</td>\n",
       "    </tr>\n",
       "    <tr>\n",
       "      <th>4057</th>\n",
       "      <td>0.0</td>\n",
       "      <td>-0.000858</td>\n",
       "      <td>-0.000838</td>\n",
       "      <td>0.000859</td>\n",
       "      <td>0.000819</td>\n",
       "      <td>-0.999999</td>\n",
       "      <td>0.000084</td>\n",
       "    </tr>\n",
       "    <tr>\n",
       "      <th>4058</th>\n",
       "      <td>0.0</td>\n",
       "      <td>-0.000823</td>\n",
       "      <td>-0.000801</td>\n",
       "      <td>0.000836</td>\n",
       "      <td>0.000798</td>\n",
       "      <td>-0.999999</td>\n",
       "      <td>0.000077</td>\n",
       "    </tr>\n",
       "    <tr>\n",
       "      <th>4059</th>\n",
       "      <td>0.0</td>\n",
       "      <td>-0.000803</td>\n",
       "      <td>-0.000784</td>\n",
       "      <td>0.000837</td>\n",
       "      <td>0.000800</td>\n",
       "      <td>-0.999999</td>\n",
       "      <td>0.000075</td>\n",
       "    </tr>\n",
       "    <tr>\n",
       "      <th>4060</th>\n",
       "      <td>0.0</td>\n",
       "      <td>-0.000842</td>\n",
       "      <td>-0.000823</td>\n",
       "      <td>0.000879</td>\n",
       "      <td>0.000850</td>\n",
       "      <td>-0.999999</td>\n",
       "      <td>0.000078</td>\n",
       "    </tr>\n",
       "    <tr>\n",
       "      <th>4061</th>\n",
       "      <td>0.0</td>\n",
       "      <td>-0.000813</td>\n",
       "      <td>-0.000792</td>\n",
       "      <td>0.000856</td>\n",
       "      <td>0.000831</td>\n",
       "      <td>-0.999999</td>\n",
       "      <td>0.000075</td>\n",
       "    </tr>\n",
       "  </tbody>\n",
       "</table>\n",
       "<p>4062 rows × 7 columns</p>\n",
       "</div>"
      ],
      "text/plain": [
       "      Rainfall_Bastia_Umbra  Depth_to_Groundwater_P24  \\\n",
       "0                       0.0                 -0.001303   \n",
       "1                       0.0                 -0.001113   \n",
       "2                       0.0                 -0.001241   \n",
       "3                       0.0                 -0.001143   \n",
       "4                       0.0                 -0.001070   \n",
       "...                     ...                       ...   \n",
       "4057                    0.0                 -0.000858   \n",
       "4058                    0.0                 -0.000823   \n",
       "4059                    0.0                 -0.000803   \n",
       "4060                    0.0                 -0.000842   \n",
       "4061                    0.0                 -0.000813   \n",
       "\n",
       "      Depth_to_Groundwater_P25  Temperature_Bastia_Umbra  \\\n",
       "0                    -0.001269                  0.000212   \n",
       "1                    -0.001081                  0.000080   \n",
       "2                    -0.001206                  0.000171   \n",
       "3                    -0.001112                  0.000029   \n",
       "4                    -0.001039                 -0.000064   \n",
       "...                        ...                       ...   \n",
       "4057                 -0.000838                  0.000859   \n",
       "4058                 -0.000801                  0.000836   \n",
       "4059                 -0.000784                  0.000837   \n",
       "4060                 -0.000823                  0.000879   \n",
       "4061                 -0.000792                  0.000856   \n",
       "\n",
       "      Temperature_Petrignano  Volume_C10_Petrignano  \\\n",
       "0                   0.000200              -0.999998   \n",
       "1                   0.000087              -0.999999   \n",
       "2                   0.000151              -0.999998   \n",
       "3                   0.000029              -0.999999   \n",
       "4                  -0.000070              -0.999999   \n",
       "...                      ...                    ...   \n",
       "4057                0.000819              -0.999999   \n",
       "4058                0.000798              -0.999999   \n",
       "4059                0.000800              -0.999999   \n",
       "4060                0.000850              -0.999999   \n",
       "4061                0.000831              -0.999999   \n",
       "\n",
       "      Hydrometry_Fiume_Chiascio_Petrignano  \n",
       "0                                 0.000098  \n",
       "1                                 0.000087  \n",
       "2                                 0.000093  \n",
       "3                                 0.000086  \n",
       "4                                 0.000077  \n",
       "...                                    ...  \n",
       "4057                              0.000084  \n",
       "4058                              0.000077  \n",
       "4059                              0.000075  \n",
       "4060                              0.000078  \n",
       "4061                              0.000075  \n",
       "\n",
       "[4062 rows x 7 columns]"
      ]
     },
     "execution_count": 60,
     "metadata": {},
     "output_type": "execute_result"
    }
   ],
   "source": [
    "from sklearn.preprocessing import Normalizer\n",
    "scale = Normalizer()\n",
    "dataset = scale.fit_transform(a)\n",
    "df = pd.DataFrame(dataset)\n",
    "clms = a.columns\n",
    "df.columns = clms\n",
    "df"
   ]
  },
  {
   "cell_type": "code",
   "execution_count": 63,
   "metadata": {},
   "outputs": [],
   "source": [
    "#pd.DataFrame.to_csv(a,'./new_datasets/Aquifer_Petrignano.csv',index=False)\n",
    "pd.DataFrame.to_csv(df,'./new_datasets/Aquifer_Petrignano_scaled.csv',index=False)"
   ]
  }
 ],
 "metadata": {
  "interpreter": {
   "hash": "8e98eea00a698c66ff9007bd5a8bf6209cdaa78d416205c57d24ef9296d8223a"
  },
  "kernelspec": {
   "display_name": "Python 3.8.12 64-bit ('strive': conda)",
   "language": "python",
   "name": "python3"
  },
  "language_info": {
   "codemirror_mode": {
    "name": "ipython",
    "version": 3
   },
   "file_extension": ".py",
   "mimetype": "text/x-python",
   "name": "python",
   "nbconvert_exporter": "python",
   "pygments_lexer": "ipython3",
   "version": "3.9.4"
  },
  "orig_nbformat": 4
 },
 "nbformat": 4,
 "nbformat_minor": 2
}
